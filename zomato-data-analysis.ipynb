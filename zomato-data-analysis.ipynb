{
 "cells": [
  {
   "cell_type": "code",
   "execution_count": 1,
   "id": "7fbbafa0",
   "metadata": {
    "execution": {
     "iopub.execute_input": "2024-07-03T17:17:27.650853Z",
     "iopub.status.busy": "2024-07-03T17:17:27.650382Z",
     "iopub.status.idle": "2024-07-03T17:17:28.602595Z",
     "shell.execute_reply": "2024-07-03T17:17:28.601221Z"
    },
    "papermill": {
     "duration": 0.964336,
     "end_time": "2024-07-03T17:17:28.605205",
     "exception": false,
     "start_time": "2024-07-03T17:17:27.640869",
     "status": "completed"
    },
    "tags": []
   },
   "outputs": [
    {
     "name": "stdout",
     "output_type": "stream",
     "text": [
      "/kaggle/input/zomato-restaurants-dataset/zomato.csv\n"
     ]
    }
   ],
   "source": [
    "# This Python 3 environment comes with many helpful analytics libraries installed\n",
    "# It is defined by the kaggle/python Docker image: https://github.com/kaggle/docker-python\n",
    "# For example, here's several helpful packages to load\n",
    "\n",
    "import numpy as np # linear algebra\n",
    "import pandas as pd # data processing, CSV file I/O (e.g. pd.read_csv)\n",
    "\n",
    "# Input data files are available in the read-only \"../input/\" directory\n",
    "# For example, running this (by clicking run or pressing Shift+Enter) will list all files under the input directory\n",
    "\n",
    "import os\n",
    "for dirname, _, filenames in os.walk('/kaggle/input'):\n",
    "    for filename in filenames:\n",
    "        print(os.path.join(dirname, filename))\n",
    "\n",
    "# You can write up to 20GB to the current directory (/kaggle/working/) that gets preserved as output when you create a version using \"Save & Run All\" \n",
    "# You can also write temporary files to /kaggle/temp/, but they won't be saved outside of the current session"
   ]
  },
  {
   "cell_type": "markdown",
   "id": "7c46a578",
   "metadata": {
    "papermill": {
     "duration": 0.006525,
     "end_time": "2024-07-03T17:17:28.619103",
     "exception": false,
     "start_time": "2024-07-03T17:17:28.612578",
     "status": "completed"
    },
    "tags": []
   },
   "source": [
    "# Zomato Dataset Analysis| Exploratory Data Analysis"
   ]
  },
  {
   "cell_type": "markdown",
   "id": "aba7ec37",
   "metadata": {
    "papermill": {
     "duration": 0.006535,
     "end_time": "2024-07-03T17:17:28.632475",
     "exception": false,
     "start_time": "2024-07-03T17:17:28.625940",
     "status": "completed"
    },
    "tags": []
   },
   "source": [
    "# Import all necessary libraries"
   ]
  },
  {
   "cell_type": "code",
   "execution_count": 2,
   "id": "da125546",
   "metadata": {
    "execution": {
     "iopub.execute_input": "2024-07-03T17:17:28.647747Z",
     "iopub.status.busy": "2024-07-03T17:17:28.647258Z",
     "iopub.status.idle": "2024-07-03T17:17:30.021393Z",
     "shell.execute_reply": "2024-07-03T17:17:30.020453Z"
    },
    "papermill": {
     "duration": 1.385078,
     "end_time": "2024-07-03T17:17:30.024357",
     "exception": false,
     "start_time": "2024-07-03T17:17:28.639279",
     "status": "completed"
    },
    "tags": []
   },
   "outputs": [],
   "source": [
    "import pandas as pd\n",
    "import numpy as np\n",
    "import matplotlib.pyplot as plt\n",
    "import seaborn as sns\n",
    "plt.style.use('dark_background')"
   ]
  },
  {
   "cell_type": "markdown",
   "id": "5c2325bc",
   "metadata": {
    "papermill": {
     "duration": 0.006943,
     "end_time": "2024-07-03T17:17:30.038843",
     "exception": false,
     "start_time": "2024-07-03T17:17:30.031900",
     "status": "completed"
    },
    "tags": []
   },
   "source": [
    "# Read dataset"
   ]
  },
  {
   "cell_type": "code",
   "execution_count": 3,
   "id": "6904e887",
   "metadata": {
    "execution": {
     "iopub.execute_input": "2024-07-03T17:17:30.054329Z",
     "iopub.status.busy": "2024-07-03T17:17:30.053946Z",
     "iopub.status.idle": "2024-07-03T17:17:30.126756Z",
     "shell.execute_reply": "2024-07-03T17:17:30.125692Z"
    },
    "papermill": {
     "duration": 0.08382,
     "end_time": "2024-07-03T17:17:30.129501",
     "exception": false,
     "start_time": "2024-07-03T17:17:30.045681",
     "status": "completed"
    },
    "tags": []
   },
   "outputs": [
    {
     "data": {
      "text/html": [
       "<div>\n",
       "<style scoped>\n",
       "    .dataframe tbody tr th:only-of-type {\n",
       "        vertical-align: middle;\n",
       "    }\n",
       "\n",
       "    .dataframe tbody tr th {\n",
       "        vertical-align: top;\n",
       "    }\n",
       "\n",
       "    .dataframe thead th {\n",
       "        text-align: right;\n",
       "    }\n",
       "</style>\n",
       "<table border=\"1\" class=\"dataframe\">\n",
       "  <thead>\n",
       "    <tr style=\"text-align: right;\">\n",
       "      <th></th>\n",
       "      <th>Unnamed: 0.1</th>\n",
       "      <th>Unnamed: 0</th>\n",
       "      <th>restaurant name</th>\n",
       "      <th>restaurant type</th>\n",
       "      <th>rate (out of 5)</th>\n",
       "      <th>num of ratings</th>\n",
       "      <th>avg cost (two people)</th>\n",
       "      <th>online_order</th>\n",
       "      <th>table booking</th>\n",
       "      <th>cuisines type</th>\n",
       "      <th>area</th>\n",
       "      <th>local address</th>\n",
       "    </tr>\n",
       "  </thead>\n",
       "  <tbody>\n",
       "    <tr>\n",
       "      <th>0</th>\n",
       "      <td>0</td>\n",
       "      <td>0</td>\n",
       "      <td>#FeelTheROLL</td>\n",
       "      <td>Quick Bites</td>\n",
       "      <td>3.4</td>\n",
       "      <td>7</td>\n",
       "      <td>200.0</td>\n",
       "      <td>No</td>\n",
       "      <td>No</td>\n",
       "      <td>Fast Food</td>\n",
       "      <td>Bellandur</td>\n",
       "      <td>Bellandur</td>\n",
       "    </tr>\n",
       "    <tr>\n",
       "      <th>1</th>\n",
       "      <td>1</td>\n",
       "      <td>1</td>\n",
       "      <td>#L-81 Cafe</td>\n",
       "      <td>Quick Bites</td>\n",
       "      <td>3.9</td>\n",
       "      <td>48</td>\n",
       "      <td>400.0</td>\n",
       "      <td>Yes</td>\n",
       "      <td>No</td>\n",
       "      <td>Fast Food, Beverages</td>\n",
       "      <td>Byresandra,Tavarekere,Madiwala</td>\n",
       "      <td>HSR</td>\n",
       "    </tr>\n",
       "    <tr>\n",
       "      <th>2</th>\n",
       "      <td>2</td>\n",
       "      <td>2</td>\n",
       "      <td>#refuel</td>\n",
       "      <td>Cafe</td>\n",
       "      <td>3.7</td>\n",
       "      <td>37</td>\n",
       "      <td>400.0</td>\n",
       "      <td>Yes</td>\n",
       "      <td>No</td>\n",
       "      <td>Cafe, Beverages</td>\n",
       "      <td>Bannerghatta Road</td>\n",
       "      <td>Bannerghatta Road</td>\n",
       "    </tr>\n",
       "    <tr>\n",
       "      <th>3</th>\n",
       "      <td>3</td>\n",
       "      <td>3</td>\n",
       "      <td>'@ Biryani Central</td>\n",
       "      <td>Casual Dining</td>\n",
       "      <td>2.7</td>\n",
       "      <td>135</td>\n",
       "      <td>550.0</td>\n",
       "      <td>Yes</td>\n",
       "      <td>No</td>\n",
       "      <td>Biryani, Mughlai, Chinese</td>\n",
       "      <td>Marathahalli</td>\n",
       "      <td>Marathahalli</td>\n",
       "    </tr>\n",
       "    <tr>\n",
       "      <th>4</th>\n",
       "      <td>4</td>\n",
       "      <td>4</td>\n",
       "      <td>'@ The Bbq</td>\n",
       "      <td>Casual Dining</td>\n",
       "      <td>2.8</td>\n",
       "      <td>40</td>\n",
       "      <td>700.0</td>\n",
       "      <td>Yes</td>\n",
       "      <td>No</td>\n",
       "      <td>BBQ, Continental, North Indian, Chinese, Bever...</td>\n",
       "      <td>Bellandur</td>\n",
       "      <td>Bellandur</td>\n",
       "    </tr>\n",
       "  </tbody>\n",
       "</table>\n",
       "</div>"
      ],
      "text/plain": [
       "   Unnamed: 0.1  Unnamed: 0     restaurant name restaurant type  \\\n",
       "0             0           0        #FeelTheROLL     Quick Bites   \n",
       "1             1           1          #L-81 Cafe     Quick Bites   \n",
       "2             2           2             #refuel            Cafe   \n",
       "3             3           3  '@ Biryani Central   Casual Dining   \n",
       "4             4           4          '@ The Bbq   Casual Dining   \n",
       "\n",
       "   rate (out of 5)  num of ratings  avg cost (two people) online_order  \\\n",
       "0              3.4               7                  200.0           No   \n",
       "1              3.9              48                  400.0          Yes   \n",
       "2              3.7              37                  400.0          Yes   \n",
       "3              2.7             135                  550.0          Yes   \n",
       "4              2.8              40                  700.0          Yes   \n",
       "\n",
       "  table booking                                      cuisines type  \\\n",
       "0            No                                          Fast Food   \n",
       "1            No                               Fast Food, Beverages   \n",
       "2            No                                    Cafe, Beverages   \n",
       "3            No                          Biryani, Mughlai, Chinese   \n",
       "4            No  BBQ, Continental, North Indian, Chinese, Bever...   \n",
       "\n",
       "                             area      local address  \n",
       "0                       Bellandur          Bellandur  \n",
       "1  Byresandra,Tavarekere,Madiwala                HSR  \n",
       "2               Bannerghatta Road  Bannerghatta Road  \n",
       "3                    Marathahalli       Marathahalli  \n",
       "4                       Bellandur          Bellandur  "
      ]
     },
     "execution_count": 3,
     "metadata": {},
     "output_type": "execute_result"
    }
   ],
   "source": [
    "df = pd.read_csv('/kaggle/input/zomato-restaurants-dataset/zomato.csv')\n",
    "df.head()"
   ]
  },
  {
   "cell_type": "markdown",
   "id": "bcccdf04",
   "metadata": {
    "papermill": {
     "duration": 0.00704,
     "end_time": "2024-07-03T17:17:30.144471",
     "exception": false,
     "start_time": "2024-07-03T17:17:30.137431",
     "status": "completed"
    },
    "tags": []
   },
   "source": [
    "del df[unnamed:0]\n",
    "del df[unnamed:0.1]"
   ]
  },
  {
   "cell_type": "code",
   "execution_count": 4,
   "id": "e286aff3",
   "metadata": {
    "execution": {
     "iopub.execute_input": "2024-07-03T17:17:30.160911Z",
     "iopub.status.busy": "2024-07-03T17:17:30.159990Z",
     "iopub.status.idle": "2024-07-03T17:17:30.186044Z",
     "shell.execute_reply": "2024-07-03T17:17:30.184739Z"
    },
    "papermill": {
     "duration": 0.036966,
     "end_time": "2024-07-03T17:17:30.188649",
     "exception": false,
     "start_time": "2024-07-03T17:17:30.151683",
     "status": "completed"
    },
    "tags": []
   },
   "outputs": [
    {
     "name": "stdout",
     "output_type": "stream",
     "text": [
      "<class 'pandas.core.frame.DataFrame'>\n",
      "RangeIndex: 7105 entries, 0 to 7104\n",
      "Data columns (total 12 columns):\n",
      " #   Column                 Non-Null Count  Dtype  \n",
      "---  ------                 --------------  -----  \n",
      " 0   Unnamed: 0.1           7105 non-null   int64  \n",
      " 1   Unnamed: 0             7105 non-null   int64  \n",
      " 2   restaurant name        7105 non-null   object \n",
      " 3   restaurant type        7105 non-null   object \n",
      " 4   rate (out of 5)        7037 non-null   float64\n",
      " 5   num of ratings         7105 non-null   int64  \n",
      " 6   avg cost (two people)  7048 non-null   float64\n",
      " 7   online_order           7105 non-null   object \n",
      " 8   table booking          7105 non-null   object \n",
      " 9   cuisines type          7105 non-null   object \n",
      " 10  area                   7105 non-null   object \n",
      " 11  local address          7105 non-null   object \n",
      "dtypes: float64(2), int64(3), object(7)\n",
      "memory usage: 666.2+ KB\n"
     ]
    }
   ],
   "source": [
    "df.info()\n"
   ]
  },
  {
   "cell_type": "markdown",
   "id": "4464a500",
   "metadata": {
    "papermill": {
     "duration": 0.006791,
     "end_time": "2024-07-03T17:17:30.202761",
     "exception": false,
     "start_time": "2024-07-03T17:17:30.195970",
     "status": "completed"
    },
    "tags": []
   },
   "source": []
  },
  {
   "cell_type": "markdown",
   "id": "cb539cdf",
   "metadata": {
    "papermill": {
     "duration": 0.006934,
     "end_time": "2024-07-03T17:17:30.216808",
     "exception": false,
     "start_time": "2024-07-03T17:17:30.209874",
     "status": "completed"
    },
    "tags": []
   },
   "source": [
    "# Dropping first 2 columns"
   ]
  },
  {
   "cell_type": "code",
   "execution_count": 5,
   "id": "d2ed64ff",
   "metadata": {
    "execution": {
     "iopub.execute_input": "2024-07-03T17:17:30.233674Z",
     "iopub.status.busy": "2024-07-03T17:17:30.232724Z",
     "iopub.status.idle": "2024-07-03T17:17:30.243233Z",
     "shell.execute_reply": "2024-07-03T17:17:30.242111Z"
    },
    "papermill": {
     "duration": 0.020886,
     "end_time": "2024-07-03T17:17:30.245332",
     "exception": false,
     "start_time": "2024-07-03T17:17:30.224446",
     "status": "completed"
    },
    "tags": []
   },
   "outputs": [],
   "source": [
    "df = df.drop(df.columns[[ 0]], axis=1)\n",
    "df = df.drop(df.columns[[ 0]], axis=1)"
   ]
  },
  {
   "cell_type": "code",
   "execution_count": 6,
   "id": "7f31213c",
   "metadata": {
    "execution": {
     "iopub.execute_input": "2024-07-03T17:17:30.261442Z",
     "iopub.status.busy": "2024-07-03T17:17:30.261070Z",
     "iopub.status.idle": "2024-07-03T17:17:30.275102Z",
     "shell.execute_reply": "2024-07-03T17:17:30.273876Z"
    },
    "papermill": {
     "duration": 0.025419,
     "end_time": "2024-07-03T17:17:30.277986",
     "exception": false,
     "start_time": "2024-07-03T17:17:30.252567",
     "status": "completed"
    },
    "tags": []
   },
   "outputs": [
    {
     "name": "stdout",
     "output_type": "stream",
     "text": [
      "<class 'pandas.core.frame.DataFrame'>\n",
      "RangeIndex: 7105 entries, 0 to 7104\n",
      "Data columns (total 10 columns):\n",
      " #   Column                 Non-Null Count  Dtype  \n",
      "---  ------                 --------------  -----  \n",
      " 0   restaurant name        7105 non-null   object \n",
      " 1   restaurant type        7105 non-null   object \n",
      " 2   rate (out of 5)        7037 non-null   float64\n",
      " 3   num of ratings         7105 non-null   int64  \n",
      " 4   avg cost (two people)  7048 non-null   float64\n",
      " 5   online_order           7105 non-null   object \n",
      " 6   table booking          7105 non-null   object \n",
      " 7   cuisines type          7105 non-null   object \n",
      " 8   area                   7105 non-null   object \n",
      " 9   local address          7105 non-null   object \n",
      "dtypes: float64(2), int64(1), object(7)\n",
      "memory usage: 555.2+ KB\n"
     ]
    }
   ],
   "source": [
    "df.info()"
   ]
  },
  {
   "cell_type": "markdown",
   "id": "96543d92",
   "metadata": {
    "papermill": {
     "duration": 0.007074,
     "end_time": "2024-07-03T17:17:30.292528",
     "exception": false,
     "start_time": "2024-07-03T17:17:30.285454",
     "status": "completed"
    },
    "tags": []
   },
   "source": [
    "# checking if dataset has null values??"
   ]
  },
  {
   "cell_type": "code",
   "execution_count": 7,
   "id": "e76b2cdd",
   "metadata": {
    "execution": {
     "iopub.execute_input": "2024-07-03T17:17:30.308861Z",
     "iopub.status.busy": "2024-07-03T17:17:30.308478Z",
     "iopub.status.idle": "2024-07-03T17:17:30.320122Z",
     "shell.execute_reply": "2024-07-03T17:17:30.318871Z"
    },
    "papermill": {
     "duration": 0.022806,
     "end_time": "2024-07-03T17:17:30.322619",
     "exception": false,
     "start_time": "2024-07-03T17:17:30.299813",
     "status": "completed"
    },
    "tags": []
   },
   "outputs": [
    {
     "data": {
      "text/plain": [
       "restaurant name           0\n",
       "restaurant type           0\n",
       "rate (out of 5)          68\n",
       "num of ratings            0\n",
       "avg cost (two people)    57\n",
       "online_order              0\n",
       "table booking             0\n",
       "cuisines type             0\n",
       "area                      0\n",
       "local address             0\n",
       "dtype: int64"
      ]
     },
     "execution_count": 7,
     "metadata": {},
     "output_type": "execute_result"
    }
   ],
   "source": [
    "df.isnull().sum()"
   ]
  },
  {
   "cell_type": "code",
   "execution_count": 8,
   "id": "f2541a50",
   "metadata": {
    "execution": {
     "iopub.execute_input": "2024-07-03T17:17:30.339971Z",
     "iopub.status.busy": "2024-07-03T17:17:30.339548Z",
     "iopub.status.idle": "2024-07-03T17:17:30.346130Z",
     "shell.execute_reply": "2024-07-03T17:17:30.345113Z"
    },
    "papermill": {
     "duration": 0.017594,
     "end_time": "2024-07-03T17:17:30.348316",
     "exception": false,
     "start_time": "2024-07-03T17:17:30.330722",
     "status": "completed"
    },
    "tags": []
   },
   "outputs": [
    {
     "data": {
      "text/plain": [
       "(7105, 10)"
      ]
     },
     "execution_count": 8,
     "metadata": {},
     "output_type": "execute_result"
    }
   ],
   "source": [
    "df.shape"
   ]
  },
  {
   "cell_type": "markdown",
   "id": "fade2371",
   "metadata": {
    "papermill": {
     "duration": 0.007407,
     "end_time": "2024-07-03T17:17:30.363309",
     "exception": false,
     "start_time": "2024-07-03T17:17:30.355902",
     "status": "completed"
    },
    "tags": []
   },
   "source": []
  },
  {
   "cell_type": "code",
   "execution_count": 9,
   "id": "02683836",
   "metadata": {
    "execution": {
     "iopub.execute_input": "2024-07-03T17:17:30.380380Z",
     "iopub.status.busy": "2024-07-03T17:17:30.379680Z",
     "iopub.status.idle": "2024-07-03T17:17:30.386633Z",
     "shell.execute_reply": "2024-07-03T17:17:30.385685Z"
    },
    "papermill": {
     "duration": 0.017848,
     "end_time": "2024-07-03T17:17:30.388738",
     "exception": false,
     "start_time": "2024-07-03T17:17:30.370890",
     "status": "completed"
    },
    "tags": []
   },
   "outputs": [
    {
     "data": {
      "text/plain": [
       "Index(['restaurant name', 'restaurant type', 'rate (out of 5)',\n",
       "       'num of ratings', 'avg cost (two people)', 'online_order',\n",
       "       'table booking', 'cuisines type', 'area', 'local address'],\n",
       "      dtype='object')"
      ]
     },
     "execution_count": 9,
     "metadata": {},
     "output_type": "execute_result"
    }
   ],
   "source": [
    "df.columns"
   ]
  },
  {
   "cell_type": "code",
   "execution_count": 10,
   "id": "33744279",
   "metadata": {
    "execution": {
     "iopub.execute_input": "2024-07-03T17:17:30.406298Z",
     "iopub.status.busy": "2024-07-03T17:17:30.405828Z",
     "iopub.status.idle": "2024-07-03T17:17:30.422193Z",
     "shell.execute_reply": "2024-07-03T17:17:30.420780Z"
    },
    "papermill": {
     "duration": 0.028216,
     "end_time": "2024-07-03T17:17:30.424759",
     "exception": false,
     "start_time": "2024-07-03T17:17:30.396543",
     "status": "completed"
    },
    "tags": []
   },
   "outputs": [
    {
     "data": {
      "text/html": [
       "<div>\n",
       "<style scoped>\n",
       "    .dataframe tbody tr th:only-of-type {\n",
       "        vertical-align: middle;\n",
       "    }\n",
       "\n",
       "    .dataframe tbody tr th {\n",
       "        vertical-align: top;\n",
       "    }\n",
       "\n",
       "    .dataframe thead th {\n",
       "        text-align: right;\n",
       "    }\n",
       "</style>\n",
       "<table border=\"1\" class=\"dataframe\">\n",
       "  <thead>\n",
       "    <tr style=\"text-align: right;\">\n",
       "      <th></th>\n",
       "      <th>restaurant name</th>\n",
       "      <th>restaurant type</th>\n",
       "      <th>rate (out of 5)</th>\n",
       "      <th>num of ratings</th>\n",
       "      <th>avg cost (two people)</th>\n",
       "      <th>online_order</th>\n",
       "      <th>table booking</th>\n",
       "      <th>cuisines type</th>\n",
       "      <th>area</th>\n",
       "      <th>local address</th>\n",
       "    </tr>\n",
       "  </thead>\n",
       "  <tbody>\n",
       "    <tr>\n",
       "      <th>0</th>\n",
       "      <td>#FeelTheROLL</td>\n",
       "      <td>Quick Bites</td>\n",
       "      <td>3.4</td>\n",
       "      <td>7</td>\n",
       "      <td>200.0</td>\n",
       "      <td>No</td>\n",
       "      <td>No</td>\n",
       "      <td>Fast Food</td>\n",
       "      <td>Bellandur</td>\n",
       "      <td>Bellandur</td>\n",
       "    </tr>\n",
       "    <tr>\n",
       "      <th>1</th>\n",
       "      <td>#L-81 Cafe</td>\n",
       "      <td>Quick Bites</td>\n",
       "      <td>3.9</td>\n",
       "      <td>48</td>\n",
       "      <td>400.0</td>\n",
       "      <td>Yes</td>\n",
       "      <td>No</td>\n",
       "      <td>Fast Food, Beverages</td>\n",
       "      <td>Byresandra,Tavarekere,Madiwala</td>\n",
       "      <td>HSR</td>\n",
       "    </tr>\n",
       "    <tr>\n",
       "      <th>2</th>\n",
       "      <td>#refuel</td>\n",
       "      <td>Cafe</td>\n",
       "      <td>3.7</td>\n",
       "      <td>37</td>\n",
       "      <td>400.0</td>\n",
       "      <td>Yes</td>\n",
       "      <td>No</td>\n",
       "      <td>Cafe, Beverages</td>\n",
       "      <td>Bannerghatta Road</td>\n",
       "      <td>Bannerghatta Road</td>\n",
       "    </tr>\n",
       "    <tr>\n",
       "      <th>3</th>\n",
       "      <td>'@ Biryani Central</td>\n",
       "      <td>Casual Dining</td>\n",
       "      <td>2.7</td>\n",
       "      <td>135</td>\n",
       "      <td>550.0</td>\n",
       "      <td>Yes</td>\n",
       "      <td>No</td>\n",
       "      <td>Biryani, Mughlai, Chinese</td>\n",
       "      <td>Marathahalli</td>\n",
       "      <td>Marathahalli</td>\n",
       "    </tr>\n",
       "    <tr>\n",
       "      <th>4</th>\n",
       "      <td>'@ The Bbq</td>\n",
       "      <td>Casual Dining</td>\n",
       "      <td>2.8</td>\n",
       "      <td>40</td>\n",
       "      <td>700.0</td>\n",
       "      <td>Yes</td>\n",
       "      <td>No</td>\n",
       "      <td>BBQ, Continental, North Indian, Chinese, Bever...</td>\n",
       "      <td>Bellandur</td>\n",
       "      <td>Bellandur</td>\n",
       "    </tr>\n",
       "  </tbody>\n",
       "</table>\n",
       "</div>"
      ],
      "text/plain": [
       "      restaurant name restaurant type  rate (out of 5)  num of ratings  \\\n",
       "0        #FeelTheROLL     Quick Bites              3.4               7   \n",
       "1          #L-81 Cafe     Quick Bites              3.9              48   \n",
       "2             #refuel            Cafe              3.7              37   \n",
       "3  '@ Biryani Central   Casual Dining              2.7             135   \n",
       "4          '@ The Bbq   Casual Dining              2.8              40   \n",
       "\n",
       "   avg cost (two people) online_order table booking  \\\n",
       "0                  200.0           No            No   \n",
       "1                  400.0          Yes            No   \n",
       "2                  400.0          Yes            No   \n",
       "3                  550.0          Yes            No   \n",
       "4                  700.0          Yes            No   \n",
       "\n",
       "                                       cuisines type  \\\n",
       "0                                          Fast Food   \n",
       "1                               Fast Food, Beverages   \n",
       "2                                    Cafe, Beverages   \n",
       "3                          Biryani, Mughlai, Chinese   \n",
       "4  BBQ, Continental, North Indian, Chinese, Bever...   \n",
       "\n",
       "                             area      local address  \n",
       "0                       Bellandur          Bellandur  \n",
       "1  Byresandra,Tavarekere,Madiwala                HSR  \n",
       "2               Bannerghatta Road  Bannerghatta Road  \n",
       "3                    Marathahalli       Marathahalli  \n",
       "4                       Bellandur          Bellandur  "
      ]
     },
     "execution_count": 10,
     "metadata": {},
     "output_type": "execute_result"
    }
   ],
   "source": [
    "df.head()"
   ]
  },
  {
   "cell_type": "markdown",
   "id": "ec9a5e1d",
   "metadata": {
    "papermill": {
     "duration": 0.007905,
     "end_time": "2024-07-03T17:17:30.440863",
     "exception": false,
     "start_time": "2024-07-03T17:17:30.432958",
     "status": "completed"
    },
    "tags": []
   },
   "source": [
    "# filling null values with mode(nost frequent value)"
   ]
  },
  {
   "cell_type": "code",
   "execution_count": 11,
   "id": "9d70c683",
   "metadata": {
    "execution": {
     "iopub.execute_input": "2024-07-03T17:17:30.458927Z",
     "iopub.status.busy": "2024-07-03T17:17:30.458544Z",
     "iopub.status.idle": "2024-07-03T17:17:30.468666Z",
     "shell.execute_reply": "2024-07-03T17:17:30.467621Z"
    },
    "papermill": {
     "duration": 0.022266,
     "end_time": "2024-07-03T17:17:30.471234",
     "exception": false,
     "start_time": "2024-07-03T17:17:30.448968",
     "status": "completed"
    },
    "tags": []
   },
   "outputs": [],
   "source": [
    "df['rate (out of 5)']=df['rate (out of 5)'].fillna(df['rate (out of 5)'].mode()[0])\n",
    "df['avg cost (two people)']=df['avg cost (two people)'].fillna(df['avg cost (two people)'].mode()[0])"
   ]
  },
  {
   "cell_type": "code",
   "execution_count": 12,
   "id": "d2f4f3a1",
   "metadata": {
    "execution": {
     "iopub.execute_input": "2024-07-03T17:17:30.489061Z",
     "iopub.status.busy": "2024-07-03T17:17:30.488692Z",
     "iopub.status.idle": "2024-07-03T17:17:30.499994Z",
     "shell.execute_reply": "2024-07-03T17:17:30.498748Z"
    },
    "papermill": {
     "duration": 0.02286,
     "end_time": "2024-07-03T17:17:30.502316",
     "exception": false,
     "start_time": "2024-07-03T17:17:30.479456",
     "status": "completed"
    },
    "tags": []
   },
   "outputs": [
    {
     "data": {
      "text/plain": [
       "0"
      ]
     },
     "execution_count": 12,
     "metadata": {},
     "output_type": "execute_result"
    }
   ],
   "source": [
    "df.isnull().sum().sum()"
   ]
  },
  {
   "cell_type": "code",
   "execution_count": 13,
   "id": "e6fd255b",
   "metadata": {
    "execution": {
     "iopub.execute_input": "2024-07-03T17:17:30.520868Z",
     "iopub.status.busy": "2024-07-03T17:17:30.519892Z",
     "iopub.status.idle": "2024-07-03T17:17:30.537364Z",
     "shell.execute_reply": "2024-07-03T17:17:30.536278Z"
    },
    "papermill": {
     "duration": 0.029301,
     "end_time": "2024-07-03T17:17:30.539695",
     "exception": false,
     "start_time": "2024-07-03T17:17:30.510394",
     "status": "completed"
    },
    "tags": []
   },
   "outputs": [
    {
     "data": {
      "text/plain": [
       "restaurant name          7105\n",
       "restaurant type            81\n",
       "rate (out of 5)            31\n",
       "num of ratings            935\n",
       "avg cost (two people)      65\n",
       "online_order                2\n",
       "table booking               2\n",
       "cuisines type            2175\n",
       "area                       30\n",
       "local address              90\n",
       "dtype: int64"
      ]
     },
     "execution_count": 13,
     "metadata": {},
     "output_type": "execute_result"
    }
   ],
   "source": [
    "df.nunique()\n"
   ]
  },
  {
   "cell_type": "code",
   "execution_count": 14,
   "id": "f95c8a47",
   "metadata": {
    "execution": {
     "iopub.execute_input": "2024-07-03T17:17:30.557869Z",
     "iopub.status.busy": "2024-07-03T17:17:30.557497Z",
     "iopub.status.idle": "2024-07-03T17:17:30.580360Z",
     "shell.execute_reply": "2024-07-03T17:17:30.579206Z"
    },
    "papermill": {
     "duration": 0.034929,
     "end_time": "2024-07-03T17:17:30.582912",
     "exception": false,
     "start_time": "2024-07-03T17:17:30.547983",
     "status": "completed"
    },
    "tags": []
   },
   "outputs": [
    {
     "data": {
      "text/html": [
       "<div>\n",
       "<style scoped>\n",
       "    .dataframe tbody tr th:only-of-type {\n",
       "        vertical-align: middle;\n",
       "    }\n",
       "\n",
       "    .dataframe tbody tr th {\n",
       "        vertical-align: top;\n",
       "    }\n",
       "\n",
       "    .dataframe thead th {\n",
       "        text-align: right;\n",
       "    }\n",
       "</style>\n",
       "<table border=\"1\" class=\"dataframe\">\n",
       "  <thead>\n",
       "    <tr style=\"text-align: right;\">\n",
       "      <th></th>\n",
       "      <th>rate (out of 5)</th>\n",
       "      <th>num of ratings</th>\n",
       "      <th>avg cost (two people)</th>\n",
       "    </tr>\n",
       "  </thead>\n",
       "  <tbody>\n",
       "    <tr>\n",
       "      <th>count</th>\n",
       "      <td>7105.000000</td>\n",
       "      <td>7105.000000</td>\n",
       "      <td>7105.000000</td>\n",
       "    </tr>\n",
       "    <tr>\n",
       "      <th>mean</th>\n",
       "      <td>3.507417</td>\n",
       "      <td>188.921042</td>\n",
       "      <td>538.358761</td>\n",
       "    </tr>\n",
       "    <tr>\n",
       "      <th>std</th>\n",
       "      <td>0.466242</td>\n",
       "      <td>592.171049</td>\n",
       "      <td>461.539596</td>\n",
       "    </tr>\n",
       "    <tr>\n",
       "      <th>min</th>\n",
       "      <td>1.800000</td>\n",
       "      <td>1.000000</td>\n",
       "      <td>40.000000</td>\n",
       "    </tr>\n",
       "    <tr>\n",
       "      <th>25%</th>\n",
       "      <td>3.200000</td>\n",
       "      <td>16.000000</td>\n",
       "      <td>300.000000</td>\n",
       "    </tr>\n",
       "    <tr>\n",
       "      <th>50%</th>\n",
       "      <td>3.500000</td>\n",
       "      <td>40.000000</td>\n",
       "      <td>400.000000</td>\n",
       "    </tr>\n",
       "    <tr>\n",
       "      <th>75%</th>\n",
       "      <td>3.800000</td>\n",
       "      <td>128.000000</td>\n",
       "      <td>600.000000</td>\n",
       "    </tr>\n",
       "    <tr>\n",
       "      <th>max</th>\n",
       "      <td>4.900000</td>\n",
       "      <td>16345.000000</td>\n",
       "      <td>6000.000000</td>\n",
       "    </tr>\n",
       "  </tbody>\n",
       "</table>\n",
       "</div>"
      ],
      "text/plain": [
       "       rate (out of 5)  num of ratings  avg cost (two people)\n",
       "count      7105.000000     7105.000000            7105.000000\n",
       "mean          3.507417      188.921042             538.358761\n",
       "std           0.466242      592.171049             461.539596\n",
       "min           1.800000        1.000000              40.000000\n",
       "25%           3.200000       16.000000             300.000000\n",
       "50%           3.500000       40.000000             400.000000\n",
       "75%           3.800000      128.000000             600.000000\n",
       "max           4.900000    16345.000000            6000.000000"
      ]
     },
     "execution_count": 14,
     "metadata": {},
     "output_type": "execute_result"
    }
   ],
   "source": [
    "df.describe()\n"
   ]
  },
  {
   "cell_type": "markdown",
   "id": "d6a92c99",
   "metadata": {
    "papermill": {
     "duration": 0.008489,
     "end_time": "2024-07-03T17:17:30.599981",
     "exception": false,
     "start_time": "2024-07-03T17:17:30.591492",
     "status": "completed"
    },
    "tags": []
   },
   "source": [
    "# visualization and analysis of cleaned data"
   ]
  },
  {
   "cell_type": "code",
   "execution_count": 15,
   "id": "aef22d70",
   "metadata": {
    "execution": {
     "iopub.execute_input": "2024-07-03T17:17:30.618920Z",
     "iopub.status.busy": "2024-07-03T17:17:30.618460Z",
     "iopub.status.idle": "2024-07-03T17:17:31.030326Z",
     "shell.execute_reply": "2024-07-03T17:17:31.029124Z"
    },
    "papermill": {
     "duration": 0.42443,
     "end_time": "2024-07-03T17:17:31.032767",
     "exception": false,
     "start_time": "2024-07-03T17:17:30.608337",
     "status": "completed"
    },
    "tags": []
   },
   "outputs": [
    {
     "data": {
      "image/png": "[encoded data removed]",
      "text/plain": [
       "<Figure size 1000x600 with 1 Axes>"
      ]
     },
     "metadata": {},
     "output_type": "display_data"
    }
   ],
   "source": [
    "# Count plot for restaurant types\n",
    "plt.figure(figsize=(10, 6))\n",
    "sns.countplot(x='restaurant type', data=df, order=df['restaurant type'].value_counts().index[:10])\n",
    "plt.title('Top 10 Restaurant Types in Zomato Dataset')\n",
    "plt.xlabel('Restaurant Type')\n",
    "plt.ylabel('Count')\n",
    "plt.xticks(rotation=45)\n",
    "plt.show()"
   ]
  },
  {
   "cell_type": "code",
   "execution_count": 16,
   "id": "2d51d2cd",
   "metadata": {
    "execution": {
     "iopub.execute_input": "2024-07-03T17:17:31.053749Z",
     "iopub.status.busy": "2024-07-03T17:17:31.052729Z",
     "iopub.status.idle": "2024-07-03T17:17:31.347078Z",
     "shell.execute_reply": "2024-07-03T17:17:31.345958Z"
    },
    "papermill": {
     "duration": 0.307778,
     "end_time": "2024-07-03T17:17:31.349647",
     "exception": false,
     "start_time": "2024-07-03T17:17:31.041869",
     "status": "completed"
    },
    "tags": []
   },
   "outputs": [
    {
     "data": {
      "image/png": "[encoded data removed]",
      "text/plain": [
       "<Figure size 800x600 with 1 Axes>"
      ]
     },
     "metadata": {},
     "output_type": "display_data"
    }
   ],
   "source": [
    "# Histogram for rating distribution\n",
    "plt.figure(figsize=(8, 6))\n",
    "plt.hist(df['rate (out of 5)'], bins=10, edgecolor='black')\n",
    "plt.title('Distribution of Ratings in Zomato Dataset')\n",
    "plt.xlabel('Rating (out of 5)')\n",
    "plt.ylabel('Frequency')\n",
    "plt.show()"
   ]
  },
  {
   "cell_type": "code",
   "execution_count": 17,
   "id": "b63ddaab",
   "metadata": {
    "execution": {
     "iopub.execute_input": "2024-07-03T17:17:31.370251Z",
     "iopub.status.busy": "2024-07-03T17:17:31.369868Z",
     "iopub.status.idle": "2024-07-03T17:17:32.078947Z",
     "shell.execute_reply": "2024-07-03T17:17:32.077623Z"
    },
    "papermill": {
     "duration": 0.722157,
     "end_time": "2024-07-03T17:17:32.081440",
     "exception": false,
     "start_time": "2024-07-03T17:17:31.359283",
     "status": "completed"
    },
    "tags": []
   },
   "outputs": [
    {
     "data": {
      "text/plain": [
       "<Axes: xlabel='avg cost (two people)', ylabel='count'>"
      ]
     },
     "execution_count": 17,
     "metadata": {},
     "output_type": "execute_result"
    },
    {
     "data": {
      "image/png": "[encoded data removed]",
      "text/plain": [
       "<Figure size 640x480 with 1 Axes>"
      ]
     },
     "metadata": {},
     "output_type": "display_data"
    }
   ],
   "source": [
    "# Count plot of average cost for two people in Zomato dataset\n",
    "couple_data=df['avg cost (two people)']\n",
    "sns.countplot(x=couple_data)"
   ]
  },
  {
   "cell_type": "code",
   "execution_count": 18,
   "id": "c96c453b",
   "metadata": {
    "execution": {
     "iopub.execute_input": "2024-07-03T17:17:32.105004Z",
     "iopub.status.busy": "2024-07-03T17:17:32.103876Z",
     "iopub.status.idle": "2024-07-03T17:17:32.411694Z",
     "shell.execute_reply": "2024-07-03T17:17:32.410137Z"
    },
    "papermill": {
     "duration": 0.322064,
     "end_time": "2024-07-03T17:17:32.414153",
     "exception": false,
     "start_time": "2024-07-03T17:17:32.092089",
     "status": "completed"
    },
    "tags": []
   },
   "outputs": [
    {
     "data": {
      "image/png": "[encoded data removed]",
      "text/plain": [
       "<Figure size 800x600 with 1 Axes>"
      ]
     },
     "metadata": {},
     "output_type": "display_data"
    }
   ],
   "source": [
    "# Histogram for number of ratings distribution\n",
    "plt.figure(figsize=(8, 6))\n",
    "plt.hist(df['num of ratings'], bins=20, edgecolor='black')\n",
    "plt.title('Distribution of Number of Ratings in Zomato Dataset')\n",
    "plt.xlabel('Number of Ratings')\n",
    "plt.ylabel('Frequency')\n",
    "plt.show()"
   ]
  },
  {
   "cell_type": "code",
   "execution_count": 19,
   "id": "d3d65c3d",
   "metadata": {
    "execution": {
     "iopub.execute_input": "2024-07-03T17:17:32.437177Z",
     "iopub.status.busy": "2024-07-03T17:17:32.436808Z",
     "iopub.status.idle": "2024-07-03T17:17:32.604345Z",
     "shell.execute_reply": "2024-07-03T17:17:32.602970Z"
    },
    "papermill": {
     "duration": 0.183044,
     "end_time": "2024-07-03T17:17:32.607895",
     "exception": false,
     "start_time": "2024-07-03T17:17:32.424851",
     "status": "completed"
    },
    "tags": []
   },
   "outputs": [
    {
     "data": {
      "image/png": "[encoded data removed]",
      "text/plain": [
       "<Figure size 600x600 with 1 Axes>"
      ]
     },
     "metadata": {},
     "output_type": "display_data"
    }
   ],
   "source": [
    "# Pie chart for online order proportion\n",
    "online_order_counts = df['online_order'].value_counts()\n",
    "plt.figure(figsize=(6, 6))\n",
    "plt.pie(online_order_counts, labels=['Online Order', 'Offline Order'], autopct='%1.1f%%', startangle=90, colors=['skyblue', 'lightcoral'])\n",
    "plt.title('Proportion of Restaurants with Online Ordering in Zomato Dataset')\n",
    "plt.show()"
   ]
  },
  {
   "cell_type": "code",
   "execution_count": 20,
   "id": "f9063050",
   "metadata": {
    "execution": {
     "iopub.execute_input": "2024-07-03T17:17:32.648895Z",
     "iopub.status.busy": "2024-07-03T17:17:32.647766Z",
     "iopub.status.idle": "2024-07-03T17:17:32.776000Z",
     "shell.execute_reply": "2024-07-03T17:17:32.774841Z"
    },
    "papermill": {
     "duration": 0.151804,
     "end_time": "2024-07-03T17:17:32.779089",
     "exception": false,
     "start_time": "2024-07-03T17:17:32.627285",
     "status": "completed"
    },
    "tags": []
   },
   "outputs": [
    {
     "data": {
      "image/png": "[encoded data removed]",
      "text/plain": [
       "<Figure size 600x600 with 1 Axes>"
      ]
     },
     "metadata": {},
     "output_type": "display_data"
    }
   ],
   "source": [
    "# Pie chart for table booking proportion\n",
    "table_booking_counts = df['table booking'].value_counts()\n",
    "plt.figure(figsize=(6, 6))\n",
    "plt.pie(table_booking_counts, labels=['Table Booking', 'No Table Booking'], autopct='%1.1f%%', startangle=90, colors=['lightgreen', 'lightsalmon'])\n",
    "plt.title('Proportion of Restaurants with Table Booking in Zomato Dataset')\n",
    "plt.show()"
   ]
  },
  {
   "cell_type": "code",
   "execution_count": null,
   "id": "840ed677",
   "metadata": {
    "papermill": {
     "duration": 0.019105,
     "end_time": "2024-07-03T17:17:32.819165",
     "exception": false,
     "start_time": "2024-07-03T17:17:32.800060",
     "status": "completed"
    },
    "tags": []
   },
   "outputs": [],
   "source": []
  }
 ],
 "metadata": {
  "kaggle": {
   "accelerator": "none",
   "dataSources": [
    {
     "datasetId": 3538481,
     "sourceId": 6167175,
     "sourceType": "datasetVersion"
    }
   ],
   "dockerImageVersionId": 30732,
   "isGpuEnabled": false,
   "isInternetEnabled": false,
   "language": "python",
   "sourceType": "notebook"
  },
  "kernelspec": {
   "display_name": "Python 3",
   "language": "python",
   "name": "python3"
  },
  "language_info": {
   "codemirror_mode": {
    "name": "ipython",
    "version": 3
   },
   "file_extension": ".py",
   "mimetype": "text/x-python",
   "name": "python",
   "nbconvert_exporter": "python",
   "pygments_lexer": "ipython3",
   "version": "3.10.13"
  },
  "papermill": {
   "default_parameters": {},
   "duration": 8.762808,
   "end_time": "2024-07-03T17:17:33.462210",
   "environment_variables": {},
   "exception": null,
   "input_path": "__notebook__.ipynb",
   "output_path": "__notebook__.ipynb",
   "parameters": {},
   "start_time": "2024-07-03T17:17:24.699402",
   "version": "2.5.0"
  }
 },
 "nbformat": 4,
 "nbformat_minor": 5
}
